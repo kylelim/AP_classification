{
 "cells": [
  {
   "cell_type": "code",
   "execution_count": 2,
   "metadata": {},
   "outputs": [],
   "source": [
    "import pandas as pd"
   ]
  },
  {
   "cell_type": "markdown",
   "metadata": {},
   "source": [
    "Dataset Creator\n",
    "- Create the train and test set for auto prompting\n",
    "Input: a labelled dataset with no header row\n",
    "Output: train_dataset.csv & test_dataset.csv (for training and testing the performance respectively)"
   ]
  },
  {
   "cell_type": "code",
   "execution_count": null,
   "metadata": {},
   "outputs": [],
   "source": [
    "# Load the Excel dataset\n",
    "excel_data = pd.read_excel('', header = None, names=['text', 'label'])\n",
    "\n",
    "print(excel_data.index)\n",
    "\n",
    "# Modify the dataset structure\n",
    "df = pd.DataFrame({\n",
    "    'text': excel_data['text'],\n",
    "    'prediction': '',\n",
    "    'annotation': excel_data['label'],\n",
    "    'metadata': '',\n",
    "    'score': '',\n",
    "    'batch_id': ''\n",
    "})\n",
    "print(\"After creating the dataframe\")\n",
    "print(df.head(5))\n",
    "print(\"__________________________\")\n",
    "\n",
    "# Randomize the index\n",
    "df = df.sample(frac=1).reset_index(drop=True)\n",
    "\n",
    "df.batch_id = [_//60 for _ in range(len(df))]\n",
    "# Save the train dataset to a separate Excel file\n",
    "df.to_csv('train_dataset.csv', index=True)\n",
    "\n",
    "df.batch_id = [0 for _ in range(len(test_df))]\n",
    "# Save the test dataset to a separate Excel file\n",
    "df.to_csv('test_dataset.csv', index=True)"
   ]
  }
 ],
 "metadata": {
  "kernelspec": {
   "display_name": "Python 3",
   "language": "python",
   "name": "python3"
  },
  "language_info": {
   "codemirror_mode": {
    "name": "ipython",
    "version": 3
   },
   "file_extension": ".py",
   "mimetype": "text/x-python",
   "name": "python",
   "nbconvert_exporter": "python",
   "pygments_lexer": "ipython3",
   "version": "3.11.9"
  }
 },
 "nbformat": 4,
 "nbformat_minor": 2
}
