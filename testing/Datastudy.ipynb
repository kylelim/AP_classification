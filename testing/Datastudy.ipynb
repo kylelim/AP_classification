{
 "cells": [
  {
   "cell_type": "code",
   "execution_count": 19,
   "metadata": {},
   "outputs": [
    {
     "name": "stdout",
     "output_type": "stream",
     "text": [
      "Pass            59\n",
      "Not-In-Scope    21\n",
      "No               4\n",
      "Name: prediction, dtype: int64\n",
      "Pass    20\n",
      "No       1\n",
      "Name: annotation, dtype: int64\n",
      "Not-In-Scope    57\n",
      "No               2\n",
      "Name: annotation, dtype: int64\n"
     ]
    }
   ],
   "source": [
    "import pandas as pd\n",
    "\n",
    "def process_test_csv():\n",
    "    # Read the CSV file\n",
    "    df = pd.read_csv('./Predicted_dataset_NoNIS_sorted.csv')\n",
    "    \n",
    "    # Replace \"Not\" with \"Not-In_Scope\" in the \"prediction\" column\n",
    "    df['prediction'] = df['prediction'].replace('Not', 'Not-In-Scope')\n",
    "    \n",
    "    # Compare the \"prediction\" and \"annotation\" columnss\n",
    "    df['diff'] = (df['prediction'] != df['annotation'])\n",
    "    \n",
    "    # Create a new dataframe with only the rows where prediction != annotation\n",
    "    diff_df = df[df['diff']]\n",
    "    \n",
    "    # Print the distribution of values in the new dataframe\n",
    "    print(diff_df['prediction'].value_counts())\n",
    "\n",
    "    # Get the distribution of annotation values where prediction is \"Not-In_Scope\"\n",
    "    not_in_scope_annotations = diff_df.loc[diff_df['prediction'] == 'Not-In-Scope', 'annotation'].value_counts()\n",
    "    \n",
    "    print(not_in_scope_annotations)\n",
    "\n",
    "    # Get the distribution of annotation values where prediction is \"Not-In_Scope\"\n",
    "    not_in_scope_annotations = diff_df.loc[diff_df['prediction'] == 'Pass', 'annotation'].value_counts()\n",
    "    \n",
    "    print(not_in_scope_annotations)\n",
    "    \n",
    "    diff_df.to_csv('diff_df_NoNIS_sorted.csv', index=False)\n",
    "    \n",
    "    return diff_df\n",
    "\n",
    "# Call the function\n",
    "diff_df = process_test_csv()"
   ]
  },
  {
   "cell_type": "code",
   "execution_count": 18,
   "metadata": {},
   "outputs": [
    {
     "name": "stdout",
     "output_type": "stream",
     "text": [
      "______________________\n",
      "name right now is ./Predicted_dataset_NoNIS_sorted.csv\n",
      "Pass            59\n",
      "Not-In-Scope    21\n",
      "No               4\n",
      "Name: prediction, dtype: int64\n",
      "For all mistakened Not-In-Scope predictions: \n",
      "Pass    20\n",
      "No       1\n",
      "Name: annotation, dtype: int64\n",
      "For all mistakened Pass predictions: \n",
      "Not-In-Scope    57\n",
      "No               2\n",
      "Name: annotation, dtype: int64\n",
      "For all mistakened No predictions: \n",
      "Yes             3\n",
      "Manipulation    1\n",
      "Name: annotation, dtype: int64\n",
      "______________________\n"
     ]
    }
   ],
   "source": [
    "def process_test_csv(name):\n",
    "    # Read the CSV file\n",
    "    df = pd.read_csv(name)\n",
    "    \n",
    "    # Replace \"Not\" with \"Not-In_Scope\" in the \"prediction\" column\n",
    "    df['prediction'] = df['prediction'].replace('Not', 'Not-In-Scope')\n",
    "    \n",
    "    # Compare the \"prediction\" and \"annotation\" columnss\n",
    "    df['diff'] = (df['prediction'] != df['annotation'])\n",
    "    \n",
    "    # Create a new dataframe with only the rows where prediction != annotation\n",
    "    diff_df = df[df['diff']]\n",
    "    \n",
    "    # Print the distribution of values in the new dataframe\n",
    "    print(diff_df['prediction'].value_counts())\n",
    "\n",
    "    # Get the distribution of annotation values where prediction is \"Not-In_Scope\"\n",
    "    not_in_scope_annotations = diff_df.loc[diff_df['prediction'] == 'Not-In-Scope', 'annotation'].value_counts()\n",
    "    \n",
    "    print(\"For all mistakened Not-In-Scope predictions: \")\n",
    "    print(not_in_scope_annotations)\n",
    "\n",
    "    # Get the distribution of annotation values where prediction is \"Pass\"\n",
    "    not_in_scope_annotations = diff_df.loc[diff_df['prediction'] == 'Pass', 'annotation'].value_counts()\n",
    "    \n",
    "    print(\"For all mistakened Pass predictions: \")\n",
    "    print(not_in_scope_annotations)\n",
    "\n",
    "    # Get the distribution of annotation values where prediction is \"No\"\n",
    "    not_in_scope_annotations = diff_df.loc[diff_df['prediction'] == 'No', 'annotation'].value_counts()\n",
    "    \n",
    "    print(\"For all mistakened No predictions: \")\n",
    "    print(not_in_scope_annotations)\n",
    "    \n",
    "    return diff_df\n",
    "\n",
    "# Call the function\n",
    "names = [\"./Predicted_dataset_NoNIS_sorted.csv\"]\n",
    "\n",
    "for name in names:\n",
    "    print(\"______________________\")\n",
    "    print(f\"name right now is {name}\")\n",
    "    diff_df = process_test_csv(name)\n",
    "    print(\"______________________\")"
   ]
  }
 ],
 "metadata": {
  "kernelspec": {
   "display_name": "Python 3",
   "language": "python",
   "name": "python3"
  },
  "language_info": {
   "codemirror_mode": {
    "name": "ipython",
    "version": 3
   },
   "file_extension": ".py",
   "mimetype": "text/x-python",
   "name": "python",
   "nbconvert_exporter": "python",
   "pygments_lexer": "ipython3",
   "version": "3.11.9"
  }
 },
 "nbformat": 4,
 "nbformat_minor": 2
}
